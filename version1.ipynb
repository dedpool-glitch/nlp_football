{
 "cells": [
  {
   "cell_type": "code",
   "execution_count": 2,
   "metadata": {},
   "outputs": [],
   "source": [
    "import numpy as np\n",
    "import pandas as pd\n",
    "import nltk "
   ]
  },
  {
   "cell_type": "code",
   "execution_count": 8,
   "metadata": {},
   "outputs": [
    {
     "data": {
      "text/html": [
       "<div>\n",
       "<style scoped>\n",
       "    .dataframe tbody tr th:only-of-type {\n",
       "        vertical-align: middle;\n",
       "    }\n",
       "\n",
       "    .dataframe tbody tr th {\n",
       "        vertical-align: top;\n",
       "    }\n",
       "\n",
       "    .dataframe thead th {\n",
       "        text-align: right;\n",
       "    }\n",
       "</style>\n",
       "<table border=\"1\" class=\"dataframe\">\n",
       "  <thead>\n",
       "    <tr style=\"text-align: right;\">\n",
       "      <th></th>\n",
       "      <th>Unnamed: 0</th>\n",
       "      <th>Likes</th>\n",
       "      <th>Source of Tweet</th>\n",
       "      <th>Content</th>\n",
       "      <th>Sentiment</th>\n",
       "    </tr>\n",
       "    <tr>\n",
       "      <th>Tweet date</th>\n",
       "      <th></th>\n",
       "      <th></th>\n",
       "      <th></th>\n",
       "      <th></th>\n",
       "      <th></th>\n",
       "    </tr>\n",
       "  </thead>\n",
       "  <tbody>\n",
       "    <tr>\n",
       "      <th>2022-11-20 23:59:21+00:00</th>\n",
       "      <td>0</td>\n",
       "      <td>4</td>\n",
       "      <td>Twitter Web App</td>\n",
       "      <td>What are we drinking today @TucanTribe \\n@MadB...</td>\n",
       "      <td>neutral</td>\n",
       "    </tr>\n",
       "    <tr>\n",
       "      <th>2022-11-20 23:59:01+00:00</th>\n",
       "      <td>1</td>\n",
       "      <td>3</td>\n",
       "      <td>Twitter for iPhone</td>\n",
       "      <td>Amazing @CanadaSoccerEN  #WorldCup2022 launch ...</td>\n",
       "      <td>positive</td>\n",
       "    </tr>\n",
       "    <tr>\n",
       "      <th>2022-11-20 23:58:41+00:00</th>\n",
       "      <td>2</td>\n",
       "      <td>1</td>\n",
       "      <td>Twitter for iPhone</td>\n",
       "      <td>Worth reading while watching #WorldCup2022 htt...</td>\n",
       "      <td>positive</td>\n",
       "    </tr>\n",
       "    <tr>\n",
       "      <th>2022-11-20 23:58:33+00:00</th>\n",
       "      <td>3</td>\n",
       "      <td>1</td>\n",
       "      <td>Twitter Web App</td>\n",
       "      <td>Golden Maknae shinning bright\\n\\nhttps://t.co/...</td>\n",
       "      <td>positive</td>\n",
       "    </tr>\n",
       "    <tr>\n",
       "      <th>2022-11-20 23:58:28+00:00</th>\n",
       "      <td>4</td>\n",
       "      <td>0</td>\n",
       "      <td>Twitter for Android</td>\n",
       "      <td>If the BBC cares so much about human rights, h...</td>\n",
       "      <td>negative</td>\n",
       "    </tr>\n",
       "  </tbody>\n",
       "</table>\n",
       "</div>"
      ],
      "text/plain": [
       "                           Unnamed: 0  Likes      Source of Tweet  \\\n",
       "Tweet date                                                          \n",
       "2022-11-20 23:59:21+00:00           0      4      Twitter Web App   \n",
       "2022-11-20 23:59:01+00:00           1      3   Twitter for iPhone   \n",
       "2022-11-20 23:58:41+00:00           2      1   Twitter for iPhone   \n",
       "2022-11-20 23:58:33+00:00           3      1      Twitter Web App   \n",
       "2022-11-20 23:58:28+00:00           4      0  Twitter for Android   \n",
       "\n",
       "                                                                     Content  \\\n",
       "Tweet date                                                                     \n",
       "2022-11-20 23:59:21+00:00  What are we drinking today @TucanTribe \\n@MadB...   \n",
       "2022-11-20 23:59:01+00:00  Amazing @CanadaSoccerEN  #WorldCup2022 launch ...   \n",
       "2022-11-20 23:58:41+00:00  Worth reading while watching #WorldCup2022 htt...   \n",
       "2022-11-20 23:58:33+00:00  Golden Maknae shinning bright\\n\\nhttps://t.co/...   \n",
       "2022-11-20 23:58:28+00:00  If the BBC cares so much about human rights, h...   \n",
       "\n",
       "                          Sentiment  \n",
       "Tweet date                           \n",
       "2022-11-20 23:59:21+00:00   neutral  \n",
       "2022-11-20 23:59:01+00:00  positive  \n",
       "2022-11-20 23:58:41+00:00  positive  \n",
       "2022-11-20 23:58:33+00:00  positive  \n",
       "2022-11-20 23:58:28+00:00  negative  "
      ]
     },
     "execution_count": 8,
     "metadata": {},
     "output_type": "execute_result"
    }
   ],
   "source": [
    "df_tweets=pd.read_csv(\"fifa_world_cup_2022_tweets.csv\",index_col=1)\n",
    "df_tweets.head()"
   ]
  },
  {
   "cell_type": "code",
   "execution_count": 11,
   "metadata": {},
   "outputs": [],
   "source": [
    "df_tweets.drop(['Unnamed: 0'],axis=1,inplace=True)"
   ]
  },
  {
   "cell_type": "code",
   "execution_count": 15,
   "metadata": {},
   "outputs": [
    {
     "name": "stdout",
     "output_type": "stream",
     "text": [
      "<class 'pandas.core.frame.DataFrame'>\n",
      "Index: 22524 entries, 2022-11-20 23:59:21+00:00 to 2022-11-20 00:00:00+00:00\n",
      "Data columns (total 4 columns):\n",
      " #   Column           Non-Null Count  Dtype \n",
      "---  ------           --------------  ----- \n",
      " 0   Likes            22524 non-null  int64 \n",
      " 1   Source of Tweet  22524 non-null  object\n",
      " 2   Content          22524 non-null  object\n",
      " 3   Sentiment        22524 non-null  object\n",
      "dtypes: int64(1), object(3)\n",
      "memory usage: 879.8+ KB\n"
     ]
    }
   ],
   "source": [
    "df_tweets.info()"
   ]
  }
 ],
 "metadata": {
  "kernelspec": {
   "display_name": "Python 3",
   "language": "python",
   "name": "python3"
  },
  "language_info": {
   "codemirror_mode": {
    "name": "ipython",
    "version": 3
   },
   "file_extension": ".py",
   "mimetype": "text/x-python",
   "name": "python",
   "nbconvert_exporter": "python",
   "pygments_lexer": "ipython3",
   "version": "3.10.10"
  },
  "orig_nbformat": 4,
  "vscode": {
   "interpreter": {
    "hash": "26de051ba29f2982a8de78e945f0abaf191376122a1563185a90213a26c5da77"
   }
  }
 },
 "nbformat": 4,
 "nbformat_minor": 2
}
