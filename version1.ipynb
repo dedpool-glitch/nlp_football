{
 "cells": [
  {
   "cell_type": "code",
   "execution_count": 38,
   "metadata": {},
   "outputs": [],
   "source": [
    "import numpy as np\n",
    "import pandas as pd\n",
    "import nltk \n",
    "from sklearn.feature_extraction.text import CountVectorizer\n",
    "from nltk.tokenize import RegexpTokenizer,TweetTokenizer\n",
    "from sklearn.model_selection import train_test_split\n",
    "np.random.seed(12355)\n",
    "from sklearn.naive_bayes import MultinomialNB\n",
    "from sklearn.ensemble import RandomForestClassifier"
   ]
  },
  {
   "cell_type": "code",
   "execution_count": 8,
   "metadata": {},
   "outputs": [
    {
     "data": {
      "text/html": [
       "<div>\n",
       "<style scoped>\n",
       "    .dataframe tbody tr th:only-of-type {\n",
       "        vertical-align: middle;\n",
       "    }\n",
       "\n",
       "    .dataframe tbody tr th {\n",
       "        vertical-align: top;\n",
       "    }\n",
       "\n",
       "    .dataframe thead th {\n",
       "        text-align: right;\n",
       "    }\n",
       "</style>\n",
       "<table border=\"1\" class=\"dataframe\">\n",
       "  <thead>\n",
       "    <tr style=\"text-align: right;\">\n",
       "      <th></th>\n",
       "      <th>Unnamed: 0</th>\n",
       "      <th>Likes</th>\n",
       "      <th>Source of Tweet</th>\n",
       "      <th>Content</th>\n",
       "      <th>Sentiment</th>\n",
       "    </tr>\n",
       "    <tr>\n",
       "      <th>Tweet date</th>\n",
       "      <th></th>\n",
       "      <th></th>\n",
       "      <th></th>\n",
       "      <th></th>\n",
       "      <th></th>\n",
       "    </tr>\n",
       "  </thead>\n",
       "  <tbody>\n",
       "    <tr>\n",
       "      <th>2022-11-20 23:59:21+00:00</th>\n",
       "      <td>0</td>\n",
       "      <td>4</td>\n",
       "      <td>Twitter Web App</td>\n",
       "      <td>What are we drinking today @TucanTribe \\n@MadB...</td>\n",
       "      <td>neutral</td>\n",
       "    </tr>\n",
       "    <tr>\n",
       "      <th>2022-11-20 23:59:01+00:00</th>\n",
       "      <td>1</td>\n",
       "      <td>3</td>\n",
       "      <td>Twitter for iPhone</td>\n",
       "      <td>Amazing @CanadaSoccerEN  #WorldCup2022 launch ...</td>\n",
       "      <td>positive</td>\n",
       "    </tr>\n",
       "    <tr>\n",
       "      <th>2022-11-20 23:58:41+00:00</th>\n",
       "      <td>2</td>\n",
       "      <td>1</td>\n",
       "      <td>Twitter for iPhone</td>\n",
       "      <td>Worth reading while watching #WorldCup2022 htt...</td>\n",
       "      <td>positive</td>\n",
       "    </tr>\n",
       "    <tr>\n",
       "      <th>2022-11-20 23:58:33+00:00</th>\n",
       "      <td>3</td>\n",
       "      <td>1</td>\n",
       "      <td>Twitter Web App</td>\n",
       "      <td>Golden Maknae shinning bright\\n\\nhttps://t.co/...</td>\n",
       "      <td>positive</td>\n",
       "    </tr>\n",
       "    <tr>\n",
       "      <th>2022-11-20 23:58:28+00:00</th>\n",
       "      <td>4</td>\n",
       "      <td>0</td>\n",
       "      <td>Twitter for Android</td>\n",
       "      <td>If the BBC cares so much about human rights, h...</td>\n",
       "      <td>negative</td>\n",
       "    </tr>\n",
       "  </tbody>\n",
       "</table>\n",
       "</div>"
      ],
      "text/plain": [
       "                           Unnamed: 0  Likes      Source of Tweet  \\\n",
       "Tweet date                                                          \n",
       "2022-11-20 23:59:21+00:00           0      4      Twitter Web App   \n",
       "2022-11-20 23:59:01+00:00           1      3   Twitter for iPhone   \n",
       "2022-11-20 23:58:41+00:00           2      1   Twitter for iPhone   \n",
       "2022-11-20 23:58:33+00:00           3      1      Twitter Web App   \n",
       "2022-11-20 23:58:28+00:00           4      0  Twitter for Android   \n",
       "\n",
       "                                                                     Content  \\\n",
       "Tweet date                                                                     \n",
       "2022-11-20 23:59:21+00:00  What are we drinking today @TucanTribe \\n@MadB...   \n",
       "2022-11-20 23:59:01+00:00  Amazing @CanadaSoccerEN  #WorldCup2022 launch ...   \n",
       "2022-11-20 23:58:41+00:00  Worth reading while watching #WorldCup2022 htt...   \n",
       "2022-11-20 23:58:33+00:00  Golden Maknae shinning bright\\n\\nhttps://t.co/...   \n",
       "2022-11-20 23:58:28+00:00  If the BBC cares so much about human rights, h...   \n",
       "\n",
       "                          Sentiment  \n",
       "Tweet date                           \n",
       "2022-11-20 23:59:21+00:00   neutral  \n",
       "2022-11-20 23:59:01+00:00  positive  \n",
       "2022-11-20 23:58:41+00:00  positive  \n",
       "2022-11-20 23:58:33+00:00  positive  \n",
       "2022-11-20 23:58:28+00:00  negative  "
      ]
     },
     "execution_count": 8,
     "metadata": {},
     "output_type": "execute_result"
    }
   ],
   "source": [
    "df_tweets=pd.read_csv(\"fifa_world_cup_2022_tweets.csv\",index_col=1)\n",
    "df_tweets.head()"
   ]
  },
  {
   "cell_type": "code",
   "execution_count": 11,
   "metadata": {},
   "outputs": [],
   "source": [
    "df_tweets.drop(['Unnamed: 0'],axis=1,inplace=True)"
   ]
  },
  {
   "cell_type": "code",
   "execution_count": 15,
   "metadata": {},
   "outputs": [
    {
     "name": "stdout",
     "output_type": "stream",
     "text": [
      "<class 'pandas.core.frame.DataFrame'>\n",
      "Index: 22524 entries, 2022-11-20 23:59:21+00:00 to 2022-11-20 00:00:00+00:00\n",
      "Data columns (total 4 columns):\n",
      " #   Column           Non-Null Count  Dtype \n",
      "---  ------           --------------  ----- \n",
      " 0   Likes            22524 non-null  int64 \n",
      " 1   Source of Tweet  22524 non-null  object\n",
      " 2   Content          22524 non-null  object\n",
      " 3   Sentiment        22524 non-null  object\n",
      "dtypes: int64(1), object(3)\n",
      "memory usage: 879.8+ KB\n"
     ]
    }
   ],
   "source": [
    "df_tweets.info()"
   ]
  },
  {
   "cell_type": "code",
   "execution_count": 16,
   "metadata": {},
   "outputs": [],
   "source": [
    "tweets=df_tweets.copy()"
   ]
  },
  {
   "cell_type": "code",
   "execution_count": 39,
   "metadata": {},
   "outputs": [
    {
     "name": "stderr",
     "output_type": "stream",
     "text": [
      "C:\\Users\\nalinr\\AppData\\Roaming\\Python\\Python310\\site-packages\\sklearn\\feature_extraction\\text.py:528: UserWarning: The parameter 'token_pattern' will not be used since 'tokenizer' is not None'\n",
      "  warnings.warn(\n"
     ]
    }
   ],
   "source": [
    "token = RegexpTokenizer(r'[a-zA-Z0-9]+')\n",
    "token_new=TweetTokenizer()\n",
    "cv = CountVectorizer(stop_words='english',ngram_range = (1,1),tokenizer = token_new.tokenize)\n",
    "text_counts = cv.fit_transform(tweets['Content'])"
   ]
  },
  {
   "cell_type": "code",
   "execution_count": 37,
   "metadata": {},
   "outputs": [
    {
     "name": "stdout",
     "output_type": "stream",
     "text": [
      "  (0, 9589)\t1\n",
      "  (0, 29928)\t1\n",
      "  (0, 30370)\t1\n",
      "  (0, 18995)\t1\n",
      "  (0, 18491)\t1\n",
      "  (0, 3162)\t1\n",
      "  (0, 3090)\t1\n",
      "  (0, 13267)\t1\n",
      "  (0, 33122)\t1\n",
      "  (0, 14855)\t1\n",
      "  (0, 28964)\t1\n",
      "  (0, 21816)\t1\n",
      "  (1, 33122)\t1\n",
      "  (1, 14855)\t1\n",
      "  (1, 28964)\t2\n",
      "  (1, 3309)\t1\n",
      "  (1, 6265)\t1\n",
      "  (1, 17961)\t1\n",
      "  (1, 31767)\t2\n",
      "  (1, 27221)\t1\n",
      "  (1, 11132)\t1\n",
      "  (1, 6262)\t2\n",
      "  (1, 19549)\t1\n",
      "  (1, 26214)\t1\n",
      "  (1, 20691)\t1\n",
      "  :\t:\n",
      "  (22522, 5683)\t1\n",
      "  (22522, 31054)\t1\n",
      "  (22522, 32319)\t1\n",
      "  (22522, 24933)\t1\n",
      "  (22522, 6085)\t1\n",
      "  (22523, 33122)\t1\n",
      "  (22523, 14855)\t2\n",
      "  (22523, 28964)\t2\n",
      "  (22523, 31767)\t1\n",
      "  (22523, 11943)\t1\n",
      "  (22523, 11914)\t1\n",
      "  (22523, 29944)\t1\n",
      "  (22523, 6033)\t3\n",
      "  (22523, 8827)\t1\n",
      "  (22523, 27348)\t1\n",
      "  (22523, 7472)\t1\n",
      "  (22523, 18364)\t1\n",
      "  (22523, 24085)\t1\n",
      "  (22523, 27699)\t1\n",
      "  (22523, 23183)\t3\n",
      "  (22523, 28341)\t1\n",
      "  (22523, 27853)\t2\n",
      "  (22523, 24586)\t1\n",
      "  (22523, 990)\t1\n",
      "  (22523, 20465)\t1\n"
     ]
    }
   ],
   "source": [
    "print(text_counts)"
   ]
  },
  {
   "cell_type": "code",
   "execution_count": 40,
   "metadata": {},
   "outputs": [],
   "source": [
    "X_train, X_test, Y_train, Y_test = train_test_split(text_counts, tweets['Sentiment'], test_size=0.25, random_state=5)"
   ]
  },
  {
   "cell_type": "code",
   "execution_count": 41,
   "metadata": {},
   "outputs": [],
   "source": [
    "MNB = MultinomialNB()\n",
    "MNB.fit(X_train, Y_train)\n",
    "#Caluclating the accuracy score of the model\n",
    "from sklearn import metrics\n",
    "predicted = MNB.predict(X_test)"
   ]
  },
  {
   "cell_type": "code",
   "execution_count": 42,
   "metadata": {},
   "outputs": [
    {
     "name": "stdout",
     "output_type": "stream",
     "text": [
      "Accuracy Score:  0.681051323033209\n"
     ]
    }
   ],
   "source": [
    "accuracy_score = metrics.accuracy_score(predicted, Y_test)\n",
    "print(\"Accuracy Score: \",accuracy_score)"
   ]
  }
 ],
 "metadata": {
  "kernelspec": {
   "display_name": "Python 3",
   "language": "python",
   "name": "python3"
  },
  "language_info": {
   "codemirror_mode": {
    "name": "ipython",
    "version": 3
   },
   "file_extension": ".py",
   "mimetype": "text/x-python",
   "name": "python",
   "nbconvert_exporter": "python",
   "pygments_lexer": "ipython3",
   "version": "3.10.10"
  },
  "orig_nbformat": 4,
  "vscode": {
   "interpreter": {
    "hash": "26de051ba29f2982a8de78e945f0abaf191376122a1563185a90213a26c5da77"
   }
  }
 },
 "nbformat": 4,
 "nbformat_minor": 2
}
