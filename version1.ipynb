{
 "cells": [
  {
   "cell_type": "code",
   "execution_count": 4,
   "metadata": {},
   "outputs": [],
   "source": [
    "import numpy as np\n",
    "import pandas as pd\n",
    "import nltk\n",
    "import sklearn\n",
    "from sklearn.feature_extraction.text import CountVectorizer\n",
    "from nltk.tokenize import RegexpTokenizer,TweetTokenizer\n",
    "from sklearn.model_selection import train_test_split\n",
    "np.random.seed(12355)\n",
    "from sklearn.naive_bayes import MultinomialNB\n",
    "from sklearn.ensemble import RandomForestClassifier"
   ]
  },
  {
   "cell_type": "code",
   "execution_count": 5,
   "metadata": {},
   "outputs": [
    {
     "data": {
      "text/html": [
       "<div>\n",
       "<style scoped>\n",
       "    .dataframe tbody tr th:only-of-type {\n",
       "        vertical-align: middle;\n",
       "    }\n",
       "\n",
       "    .dataframe tbody tr th {\n",
       "        vertical-align: top;\n",
       "    }\n",
       "\n",
       "    .dataframe thead th {\n",
       "        text-align: right;\n",
       "    }\n",
       "</style>\n",
       "<table border=\"1\" class=\"dataframe\">\n",
       "  <thead>\n",
       "    <tr style=\"text-align: right;\">\n",
       "      <th></th>\n",
       "      <th>Unnamed: 0</th>\n",
       "      <th>Likes</th>\n",
       "      <th>Source of Tweet</th>\n",
       "      <th>Content</th>\n",
       "      <th>Sentiment</th>\n",
       "    </tr>\n",
       "    <tr>\n",
       "      <th>Tweet date</th>\n",
       "      <th></th>\n",
       "      <th></th>\n",
       "      <th></th>\n",
       "      <th></th>\n",
       "      <th></th>\n",
       "    </tr>\n",
       "  </thead>\n",
       "  <tbody>\n",
       "    <tr>\n",
       "      <th>2022-11-20 23:59:21+00:00</th>\n",
       "      <td>0</td>\n",
       "      <td>4</td>\n",
       "      <td>Twitter Web App</td>\n",
       "      <td>What are we drinking today @TucanTribe \\n@MadB...</td>\n",
       "      <td>neutral</td>\n",
       "    </tr>\n",
       "    <tr>\n",
       "      <th>2022-11-20 23:59:01+00:00</th>\n",
       "      <td>1</td>\n",
       "      <td>3</td>\n",
       "      <td>Twitter for iPhone</td>\n",
       "      <td>Amazing @CanadaSoccerEN  #WorldCup2022 launch ...</td>\n",
       "      <td>positive</td>\n",
       "    </tr>\n",
       "    <tr>\n",
       "      <th>2022-11-20 23:58:41+00:00</th>\n",
       "      <td>2</td>\n",
       "      <td>1</td>\n",
       "      <td>Twitter for iPhone</td>\n",
       "      <td>Worth reading while watching #WorldCup2022 htt...</td>\n",
       "      <td>positive</td>\n",
       "    </tr>\n",
       "    <tr>\n",
       "      <th>2022-11-20 23:58:33+00:00</th>\n",
       "      <td>3</td>\n",
       "      <td>1</td>\n",
       "      <td>Twitter Web App</td>\n",
       "      <td>Golden Maknae shinning bright\\n\\nhttps://t.co/...</td>\n",
       "      <td>positive</td>\n",
       "    </tr>\n",
       "    <tr>\n",
       "      <th>2022-11-20 23:58:28+00:00</th>\n",
       "      <td>4</td>\n",
       "      <td>0</td>\n",
       "      <td>Twitter for Android</td>\n",
       "      <td>If the BBC cares so much about human rights, h...</td>\n",
       "      <td>negative</td>\n",
       "    </tr>\n",
       "  </tbody>\n",
       "</table>\n",
       "</div>"
      ],
      "text/plain": [
       "                           Unnamed: 0  Likes      Source of Tweet  \\\n",
       "Tweet date                                                          \n",
       "2022-11-20 23:59:21+00:00           0      4      Twitter Web App   \n",
       "2022-11-20 23:59:01+00:00           1      3   Twitter for iPhone   \n",
       "2022-11-20 23:58:41+00:00           2      1   Twitter for iPhone   \n",
       "2022-11-20 23:58:33+00:00           3      1      Twitter Web App   \n",
       "2022-11-20 23:58:28+00:00           4      0  Twitter for Android   \n",
       "\n",
       "                                                                     Content  \\\n",
       "Tweet date                                                                     \n",
       "2022-11-20 23:59:21+00:00  What are we drinking today @TucanTribe \\n@MadB...   \n",
       "2022-11-20 23:59:01+00:00  Amazing @CanadaSoccerEN  #WorldCup2022 launch ...   \n",
       "2022-11-20 23:58:41+00:00  Worth reading while watching #WorldCup2022 htt...   \n",
       "2022-11-20 23:58:33+00:00  Golden Maknae shinning bright\\n\\nhttps://t.co/...   \n",
       "2022-11-20 23:58:28+00:00  If the BBC cares so much about human rights, h...   \n",
       "\n",
       "                          Sentiment  \n",
       "Tweet date                           \n",
       "2022-11-20 23:59:21+00:00   neutral  \n",
       "2022-11-20 23:59:01+00:00  positive  \n",
       "2022-11-20 23:58:41+00:00  positive  \n",
       "2022-11-20 23:58:33+00:00  positive  \n",
       "2022-11-20 23:58:28+00:00  negative  "
      ]
     },
     "execution_count": 5,
     "metadata": {},
     "output_type": "execute_result"
    }
   ],
   "source": [
    "df_tweets=pd.read_csv(\"fifa_world_cup_2022_tweets.csv\",index_col=1)\n",
    "df_tweets.head()"
   ]
  },
  {
   "cell_type": "code",
   "execution_count": 6,
   "metadata": {},
   "outputs": [],
   "source": [
    "df_tweets.drop(['Unnamed: 0'],axis=1,inplace=True)"
   ]
  },
  {
   "cell_type": "code",
   "execution_count": 7,
   "metadata": {},
   "outputs": [
    {
     "name": "stdout",
     "output_type": "stream",
     "text": [
      "<class 'pandas.core.frame.DataFrame'>\n",
      "Index: 22524 entries, 2022-11-20 23:59:21+00:00 to 2022-11-20 00:00:00+00:00\n",
      "Data columns (total 4 columns):\n",
      " #   Column           Non-Null Count  Dtype \n",
      "---  ------           --------------  ----- \n",
      " 0   Likes            22524 non-null  int64 \n",
      " 1   Source of Tweet  22524 non-null  object\n",
      " 2   Content          22524 non-null  object\n",
      " 3   Sentiment        22524 non-null  object\n",
      "dtypes: int64(1), object(3)\n",
      "memory usage: 879.8+ KB\n"
     ]
    }
   ],
   "source": [
    "df_tweets.info()"
   ]
  },
  {
   "cell_type": "code",
   "execution_count": 8,
   "metadata": {},
   "outputs": [],
   "source": [
    "tweets=df_tweets.copy()"
   ]
  },
  {
   "cell_type": "code",
   "execution_count": 9,
   "metadata": {},
   "outputs": [],
   "source": [
    "token = RegexpTokenizer(r'[a-zA-Z0-9]+')\n",
    "token_new=TweetTokenizer()\n",
    "cv = CountVectorizer(stop_words='english',ngram_range = (1,1),tokenizer = token_new.tokenize)\n",
    "text_counts = cv.fit_transform(tweets['Content'])"
   ]
  },
  {
   "cell_type": "code",
   "execution_count": 10,
   "metadata": {},
   "outputs": [
    {
     "name": "stdout",
     "output_type": "stream",
     "text": [
      "  (0, 15239)\t1\n",
      "  (0, 37149)\t1\n",
      "  (0, 10335)\t1\n",
      "  (0, 9146)\t1\n",
      "  (0, 9102)\t1\n",
      "  (0, 7574)\t1\n",
      "  (0, 5974)\t1\n",
      "  (0, 24756)\t1\n",
      "  (1, 5974)\t1\n",
      "  (1, 11162)\t1\n",
      "  (1, 7953)\t1\n",
      "  (1, 30021)\t1\n",
      "  (1, 38073)\t2\n",
      "  (1, 6225)\t2\n",
      "  (1, 35425)\t1\n",
      "  (1, 16089)\t1\n",
      "  (1, 12996)\t2\n",
      "  (1, 30950)\t1\n",
      "  (1, 39653)\t2\n",
      "  (1, 39654)\t2\n",
      "  (1, 34718)\t1\n",
      "  (1, 31567)\t1\n",
      "  (1, 36762)\t1\n",
      "  (1, 13253)\t1\n",
      "  (1, 38785)\t2\n",
      "  :\t:\n",
      "  (22523, 7452)\t2\n",
      "  (22523, 16598)\t1\n",
      "  (22523, 39288)\t3\n",
      "  (22523, 39640)\t1\n",
      "  (22523, 6200)\t2\n",
      "  (22523, 39136)\t1\n",
      "  (22523, 39650)\t1\n",
      "  (22523, 1980)\t1\n",
      "  (22523, 6216)\t1\n",
      "  (22523, 39644)\t1\n",
      "  (22523, 39641)\t1\n",
      "  (22523, 37163)\t1\n",
      "  (22523, 12888)\t3\n",
      "  (22523, 35524)\t1\n",
      "  (22523, 13835)\t1\n",
      "  (22523, 30259)\t1\n",
      "  (22523, 33591)\t1\n",
      "  (22523, 4865)\t1\n",
      "  (22523, 36175)\t1\n",
      "  (22523, 35845)\t2\n",
      "  (22523, 32909)\t3\n",
      "  (22523, 12156)\t1\n",
      "  (22523, 33689)\t1\n",
      "  (22523, 18742)\t1\n",
      "  (22523, 24267)\t1\n"
     ]
    }
   ],
   "source": [
    "print(text_counts)"
   ]
  },
  {
   "cell_type": "code",
   "execution_count": 11,
   "metadata": {},
   "outputs": [],
   "source": [
    "X_train, X_test, Y_train, Y_test = train_test_split(text_counts, tweets['Sentiment'], test_size=0.25, random_state=5)"
   ]
  },
  {
   "cell_type": "code",
   "execution_count": 12,
   "metadata": {},
   "outputs": [],
   "source": [
    "MNB = MultinomialNB()\n",
    "MNB.fit(X_train, Y_train)\n",
    "#Caluclating the accuracy score of the model\n",
    "from sklearn import metrics\n",
    "predicted = MNB.predict(X_test)"
   ]
  },
  {
   "cell_type": "code",
   "execution_count": 13,
   "metadata": {},
   "outputs": [
    {
     "name": "stdout",
     "output_type": "stream",
     "text": [
      "Accuracy Score:  0.681051323033209\n"
     ]
    }
   ],
   "source": [
    "accuracy_score = metrics.accuracy_score(predicted, Y_test)\n",
    "print(\"Accuracy Score: \",accuracy_score)"
   ]
  }
 ],
 "metadata": {
  "kernelspec": {
   "display_name": "Python 3",
   "language": "python",
   "name": "python3"
  },
  "language_info": {
   "codemirror_mode": {
    "name": "ipython",
    "version": 3
   },
   "file_extension": ".py",
   "mimetype": "text/x-python",
   "name": "python",
   "nbconvert_exporter": "python",
   "pygments_lexer": "ipython3",
   "version": "3.7.9"
  },
  "orig_nbformat": 4,
  "vscode": {
   "interpreter": {
    "hash": "2d40795dc4b27f836b157b1104828ad16ef7bd7485b3d4ad0b98a7c61041d729"
   }
  }
 },
 "nbformat": 4,
 "nbformat_minor": 2
}
